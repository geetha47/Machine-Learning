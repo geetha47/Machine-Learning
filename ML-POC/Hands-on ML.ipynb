{
 "cells": [
  {
   "cell_type": "markdown",
   "id": "2132f5b4",
   "metadata": {},
   "source": [
    "#                                    DATA IMPORT\n",
    "                                    \n",
    "\n"
   ]
  },
  {
   "cell_type": "code",
   "execution_count": 82,
   "id": "4175d12a",
   "metadata": {},
   "outputs": [],
   "source": [
    "import os\n",
    "import pandas as pd\n",
    "d=pd.read_csv('Social_Network_Ads.csv',encoding='utf-8')"
   ]
  },
  {
   "cell_type": "code",
   "execution_count": 83,
   "id": "e5d35a88",
   "metadata": {},
   "outputs": [
    {
     "data": {
      "text/plain": [
       "Age                0\n",
       "EstimatedSalary    0\n",
       "Purchased          0\n",
       "dtype: int64"
      ]
     },
     "execution_count": 83,
     "metadata": {},
     "output_type": "execute_result"
    }
   ],
   "source": [
    "d.isnull().sum()"
   ]
  },
  {
   "cell_type": "code",
   "execution_count": 84,
   "id": "a388f89f",
   "metadata": {},
   "outputs": [
    {
     "data": {
      "text/html": [
       "<div>\n",
       "<style scoped>\n",
       "    .dataframe tbody tr th:only-of-type {\n",
       "        vertical-align: middle;\n",
       "    }\n",
       "\n",
       "    .dataframe tbody tr th {\n",
       "        vertical-align: top;\n",
       "    }\n",
       "\n",
       "    .dataframe thead th {\n",
       "        text-align: right;\n",
       "    }\n",
       "</style>\n",
       "<table border=\"1\" class=\"dataframe\">\n",
       "  <thead>\n",
       "    <tr style=\"text-align: right;\">\n",
       "      <th></th>\n",
       "      <th>Age</th>\n",
       "      <th>EstimatedSalary</th>\n",
       "      <th>Purchased</th>\n",
       "    </tr>\n",
       "  </thead>\n",
       "  <tbody>\n",
       "    <tr>\n",
       "      <th>0</th>\n",
       "      <td>19</td>\n",
       "      <td>19000</td>\n",
       "      <td>0</td>\n",
       "    </tr>\n",
       "    <tr>\n",
       "      <th>1</th>\n",
       "      <td>35</td>\n",
       "      <td>20000</td>\n",
       "      <td>0</td>\n",
       "    </tr>\n",
       "    <tr>\n",
       "      <th>2</th>\n",
       "      <td>26</td>\n",
       "      <td>43000</td>\n",
       "      <td>0</td>\n",
       "    </tr>\n",
       "    <tr>\n",
       "      <th>3</th>\n",
       "      <td>27</td>\n",
       "      <td>57000</td>\n",
       "      <td>0</td>\n",
       "    </tr>\n",
       "    <tr>\n",
       "      <th>4</th>\n",
       "      <td>19</td>\n",
       "      <td>76000</td>\n",
       "      <td>0</td>\n",
       "    </tr>\n",
       "    <tr>\n",
       "      <th>...</th>\n",
       "      <td>...</td>\n",
       "      <td>...</td>\n",
       "      <td>...</td>\n",
       "    </tr>\n",
       "    <tr>\n",
       "      <th>395</th>\n",
       "      <td>46</td>\n",
       "      <td>41000</td>\n",
       "      <td>1</td>\n",
       "    </tr>\n",
       "    <tr>\n",
       "      <th>396</th>\n",
       "      <td>51</td>\n",
       "      <td>23000</td>\n",
       "      <td>1</td>\n",
       "    </tr>\n",
       "    <tr>\n",
       "      <th>397</th>\n",
       "      <td>50</td>\n",
       "      <td>20000</td>\n",
       "      <td>1</td>\n",
       "    </tr>\n",
       "    <tr>\n",
       "      <th>398</th>\n",
       "      <td>36</td>\n",
       "      <td>33000</td>\n",
       "      <td>0</td>\n",
       "    </tr>\n",
       "    <tr>\n",
       "      <th>399</th>\n",
       "      <td>49</td>\n",
       "      <td>36000</td>\n",
       "      <td>1</td>\n",
       "    </tr>\n",
       "  </tbody>\n",
       "</table>\n",
       "<p>400 rows × 3 columns</p>\n",
       "</div>"
      ],
      "text/plain": [
       "     Age  EstimatedSalary  Purchased\n",
       "0     19            19000          0\n",
       "1     35            20000          0\n",
       "2     26            43000          0\n",
       "3     27            57000          0\n",
       "4     19            76000          0\n",
       "..   ...              ...        ...\n",
       "395   46            41000          1\n",
       "396   51            23000          1\n",
       "397   50            20000          1\n",
       "398   36            33000          0\n",
       "399   49            36000          1\n",
       "\n",
       "[400 rows x 3 columns]"
      ]
     },
     "execution_count": 84,
     "metadata": {},
     "output_type": "execute_result"
    }
   ],
   "source": [
    "d"
   ]
  },
  {
   "cell_type": "markdown",
   "id": "897166a3",
   "metadata": {},
   "source": [
    "# SPLIT THE DATA\n"
   ]
  },
  {
   "cell_type": "code",
   "execution_count": 85,
   "id": "0698fc73",
   "metadata": {},
   "outputs": [],
   "source": [
    "from sklearn.model_selection import train_test_split\n",
    "x=d.iloc[:,:-1]"
   ]
  },
  {
   "cell_type": "code",
   "execution_count": 86,
   "id": "2ef3758d",
   "metadata": {},
   "outputs": [],
   "source": [
    "y=d.iloc[:,-1]"
   ]
  },
  {
   "cell_type": "code",
   "execution_count": 87,
   "id": "49870987",
   "metadata": {},
   "outputs": [
    {
     "data": {
      "text/plain": [
       "(     Age  EstimatedSalary\n",
       " 0     19            19000\n",
       " 1     35            20000\n",
       " 2     26            43000\n",
       " 3     27            57000\n",
       " 4     19            76000\n",
       " ..   ...              ...\n",
       " 395   46            41000\n",
       " 396   51            23000\n",
       " 397   50            20000\n",
       " 398   36            33000\n",
       " 399   49            36000\n",
       " \n",
       " [400 rows x 2 columns],\n",
       " 0      0\n",
       " 1      0\n",
       " 2      0\n",
       " 3      0\n",
       " 4      0\n",
       "       ..\n",
       " 395    1\n",
       " 396    1\n",
       " 397    1\n",
       " 398    0\n",
       " 399    1\n",
       " Name: Purchased, Length: 400, dtype: int64)"
      ]
     },
     "execution_count": 87,
     "metadata": {},
     "output_type": "execute_result"
    }
   ],
   "source": [
    "x,y"
   ]
  },
  {
   "cell_type": "code",
   "execution_count": 88,
   "id": "34fab332",
   "metadata": {},
   "outputs": [],
   "source": [
    "from sklearn.model_selection import train_test_split\n",
    "x_train,x_test,y_train,y_test=train_test_split(x,y,test_size=0.25,random_state=42)"
   ]
  },
  {
   "cell_type": "markdown",
   "id": "deec3e5f",
   "metadata": {},
   "source": [
    "x_train,x_test,y_train,y_test"
   ]
  },
  {
   "cell_type": "markdown",
   "id": "5da4ae0c",
   "metadata": {},
   "source": [
    "# FEATURE SCALING"
   ]
  },
  {
   "cell_type": "code",
   "execution_count": 89,
   "id": "14525576",
   "metadata": {},
   "outputs": [],
   "source": [
    "from sklearn.preprocessing import StandardScaler\n",
    "sc=StandardScaler()\n",
    "x_train=sc.fit_transform(x_train)"
   ]
  },
  {
   "cell_type": "code",
   "execution_count": 92,
   "id": "5df0eeff",
   "metadata": {},
   "outputs": [
    {
     "data": {
      "text/plain": [
       "array([[ 1.8925893 ,  1.52189404],\n",
       "       [ 0.1250379 ,  0.03213212],\n",
       "       [ 0.9106163 , -1.31157471],\n",
       "       [-1.34792161, -1.48684082],\n",
       "       [-0.169554  , -0.58129926],\n",
       "       [-0.56234321,  2.33980255],\n",
       "       [ 1.0088136 , -1.19473064],\n",
       "       [-0.75873781,  1.08372877],\n",
       "       [ 2.1871812 , -1.04867555],\n",
       "       [ 0.0268406 , -0.25997806],\n",
       "       [-0.46414591, -1.1363086 ],\n",
       "       [ 0.1250379 ,  0.03213212],\n",
       "       [ 1.6961947 , -0.90262046],\n",
       "       [ 1.1070109 , -0.90262046],\n",
       "       [ 0.5178271 ,  1.22978386],\n",
       "       [-1.05332971, -1.4576298 ],\n",
       "       [-1.15152701, -1.54526286],\n",
       "       [-0.0713567 ,  0.67477452],\n",
       "       [ 0.4196298 , -0.46445519],\n",
       "       [-0.2677513 , -0.25997806],\n",
       "       [-0.85693511,  0.14897619],\n",
       "       [ 0.0268406 ,  0.29503128],\n",
       "       [ 0.7142217 , -1.28236369],\n",
       "       [ 1.5979974 ,  1.11293979],\n",
       "       [ 0.812419  , -1.36999675],\n",
       "       [-1.44611891, -1.22394166],\n",
       "       [-0.0713567 ,  0.14897619],\n",
       "       [ 0.4196298 , -0.14313399],\n",
       "       [-0.2677513 ,  0.03213212],\n",
       "       [ 1.3034055 ,  2.22295848],\n",
       "       [ 0.1250379 ,  0.76240757],\n",
       "       [-1.34792161,  0.55793045],\n",
       "       [ 1.9907866 ,  0.73319655],\n",
       "       [-1.24972431, -1.39920777],\n",
       "       [ 0.3214325 , -0.3184001 ],\n",
       "       [-0.95513241,  0.55793045],\n",
       "       [ 0.4196298 ,  0.29503128],\n",
       "       [ 0.4196298 ,  1.11293979],\n",
       "       [ 0.812419  ,  0.76240757],\n",
       "       [ 0.9106163 ,  1.25899488],\n",
       "       [-0.46414591, -1.22394166],\n",
       "       [-1.83890811, -1.31157471],\n",
       "       [ 1.1070109 ,  0.55793045],\n",
       "       [-0.66054051, -1.60368489],\n",
       "       [-0.75873781,  0.26582026],\n",
       "       [ 1.0088136 ,  2.07690339],\n",
       "       [-0.56234321,  1.37583895],\n",
       "       [-0.0713567 ,  0.03213212],\n",
       "       [-1.93710541,  0.47029739],\n",
       "       [ 0.4196298 ,  0.26582026],\n",
       "       [-1.05332971,  0.41187535],\n",
       "       [ 0.2232352 , -0.14313399],\n",
       "       [ 1.8925893 ,  0.11976517],\n",
       "       [-1.15152701, -1.60368489],\n",
       "       [-1.15152701,  0.29503128],\n",
       "       [-0.85693511, -0.78577639],\n",
       "       [-0.46414591,  2.31059153],\n",
       "       [ 0.1250379 , -0.8149874 ],\n",
       "       [ 1.5979974 ,  0.99609572],\n",
       "       [-0.169554  , -1.07788657],\n",
       "       [ 0.812419  , -1.10709759],\n",
       "       [ 0.2232352 ,  2.1061144 ],\n",
       "       [-0.0713567 , -0.23076704],\n",
       "       [-0.85693511,  2.28138051],\n",
       "       [-0.0713567 , -0.37682213],\n",
       "       [-0.2677513 , -0.58129926],\n",
       "       [ 0.4196298 , -0.49366621],\n",
       "       [-0.2677513 , -0.93183148],\n",
       "       [ 0.3214325 , -1.16551962],\n",
       "       [ 0.2232352 ,  0.06134314],\n",
       "       [-1.15152701, -1.60368489],\n",
       "       [-0.66054051, -0.05550093],\n",
       "       [-0.2677513 , -0.49366621],\n",
       "       [-0.2677513 , -1.31157471],\n",
       "       [-0.75873781,  0.55793045],\n",
       "       [ 0.3214325 ,  0.06134314],\n",
       "       [-0.95513241,  1.55110506],\n",
       "       [ 0.812419  ,  0.35345332],\n",
       "       [-1.54431621, -0.20155602],\n",
       "       [ 0.7142217 , -1.39920777],\n",
       "       [-0.75873781, -0.61051028],\n",
       "       [-0.36594861, -1.31157471],\n",
       "       [ 0.2232352 ,  0.14897619],\n",
       "       [-0.56234321,  1.37583895],\n",
       "       [-1.44611891,  0.35345332],\n",
       "       [-1.15152701,  0.29503128],\n",
       "       [ 1.0088136 ,  1.7847932 ],\n",
       "       [ 2.0889839 ,  2.13532542],\n",
       "       [-0.2677513 , -0.43524417],\n",
       "       [-0.36594861, -0.78577639],\n",
       "       [ 0.1250379 , -0.25997806],\n",
       "       [-1.05332971,  0.76240757],\n",
       "       [ 2.1871812 ,  0.38266434],\n",
       "       [-1.34792161, -0.43524417],\n",
       "       [ 1.9907866 ,  2.16453644],\n",
       "       [ 1.4998001 ,  0.99609572],\n",
       "       [-0.2677513 ,  0.26582026],\n",
       "       [-0.169554  ,  0.85004063],\n",
       "       [ 1.8925893 , -0.28918908],\n",
       "       [-0.0713567 ,  1.96005931],\n",
       "       [-0.46414591, -0.78577639],\n",
       "       [ 0.3214325 ,  0.03213212],\n",
       "       [ 1.4016028 , -1.42841878],\n",
       "       [ 1.4016028 ,  2.33980255],\n",
       "       [-0.0713567 ,  0.0029211 ],\n",
       "       [-1.15152701,  0.41187535],\n",
       "       [-1.15152701,  0.06134314],\n",
       "       [-1.15152701, -0.52287722],\n",
       "       [ 0.3214325 , -0.28918908],\n",
       "       [-0.66054051, -0.11392297],\n",
       "       [-0.0713567 ,  2.16453644],\n",
       "       [ 0.0268406 , -0.25997806],\n",
       "       [-0.66054051, -1.04867555],\n",
       "       [ 0.4196298 ,  0.14897619],\n",
       "       [ 0.812419  ,  1.37583895],\n",
       "       [-0.169554  , -0.52287722],\n",
       "       [ 0.0268406 ,  0.03213212],\n",
       "       [ 1.1070109 ,  0.52871943],\n",
       "       [ 1.8925893 , -1.07788657],\n",
       "       [ 1.0088136 ,  1.98927033],\n",
       "       [ 0.9106163 , -0.58129926],\n",
       "       [-0.46414591, -0.02628992],\n",
       "       [-0.0713567 ,  2.22295848],\n",
       "       [-1.74071081,  0.35345332],\n",
       "       [ 0.2232352 , -0.66893231],\n",
       "       [-0.2677513 , -1.39920777],\n",
       "       [-1.74071081, -0.99025351],\n",
       "       [ 0.7142217 , -0.72735435],\n",
       "       [-1.15152701, -0.78577639],\n",
       "       [ 1.9907866 ,  0.90846266],\n",
       "       [ 0.2232352 , -0.37682213],\n",
       "       [ 0.0268406 ,  1.22978386],\n",
       "       [-0.0713567 ,  0.29503128],\n",
       "       [ 1.1070109 , -1.22394166],\n",
       "       [-0.169554  ,  0.14897619],\n",
       "       [ 0.3214325 ,  0.06134314],\n",
       "       [-0.2677513 , -0.28918908],\n",
       "       [ 0.5178271 ,  1.72637117],\n",
       "       [ 0.3214325 ,  0.49950841],\n",
       "       [ 0.0268406 ,  1.25899488],\n",
       "       [ 1.9907866 , -1.36999675],\n",
       "       [-1.15152701, -1.10709759],\n",
       "       [-0.56234321, -1.51605184],\n",
       "       [ 0.3214325 , -0.52287722],\n",
       "       [-0.66054051, -1.51605184],\n",
       "       [-0.2677513 ,  0.52871943],\n",
       "       [ 1.0088136 , -1.01946453],\n",
       "       [-1.05332971,  0.55793045],\n",
       "       [-0.2677513 ,  0.79161859],\n",
       "       [ 0.4196298 ,  0.09055416],\n",
       "       [-1.64251351, -0.05550093],\n",
       "       [ 0.3214325 ,  0.06134314],\n",
       "       [-0.46414591, -0.28918908],\n",
       "       [ 0.1250379 ,  1.87242626],\n",
       "       [-0.95513241,  0.41187535],\n",
       "       [ 0.812419  ,  0.52871943],\n",
       "       [-1.34792161, -0.34761112],\n",
       "       [-0.66054051,  1.40504997],\n",
       "       [ 1.2052082 ,  0.52871943],\n",
       "       [-1.74071081,  0.35345332],\n",
       "       [-0.56234321,  1.90163728],\n",
       "       [-1.74071081,  0.47029739],\n",
       "       [-0.2677513 , -1.25315268],\n",
       "       [-0.85693511, -0.78577639],\n",
       "       [-1.64251351,  0.52871943],\n",
       "       [-0.2677513 , -0.3184001 ],\n",
       "       [ 0.7142217 , -1.10709759],\n",
       "       [ 2.1871812 , -0.8149874 ],\n",
       "       [-0.2677513 ,  0.61635248],\n",
       "       [-0.2677513 , -0.75656537],\n",
       "       [-1.93710541, -0.75656537],\n",
       "       [ 0.4196298 ,  2.31059153],\n",
       "       [ 0.7142217 ,  0.26582026],\n",
       "       [ 0.2232352 , -0.28918908],\n",
       "       [-1.34792161, -1.36999675],\n",
       "       [-0.46414591, -0.55208824],\n",
       "       [ 0.4196298 ,  0.0029211 ],\n",
       "       [ 1.6961947 ,  1.75558219],\n",
       "       [ 1.2052082 , -0.75656537],\n",
       "       [ 1.0088136 ,  1.43426099],\n",
       "       [-1.83890811,  0.17818721],\n",
       "       [ 0.3214325 ,  0.06134314],\n",
       "       [ 0.2232352 ,  0.03213212],\n",
       "       [-1.05332971,  0.52871943],\n",
       "       [-0.169554  ,  1.63873811],\n",
       "       [-0.2677513 ,  0.14897619],\n",
       "       [-0.2677513 , -0.34761112],\n",
       "       [-0.36594861,  1.31741692],\n",
       "       [-0.2677513 ,  0.09055416],\n",
       "       [ 2.1871812 ,  1.11293979],\n",
       "       [-1.24972431,  0.49950841],\n",
       "       [-1.05332971, -0.46445519],\n",
       "       [-1.64251351, -1.57447387],\n",
       "       [-0.0713567 ,  0.11976517],\n",
       "       [-0.2677513 , -0.90262046],\n",
       "       [ 1.5979974 ,  0.0029211 ],\n",
       "       [ 0.9106163 , -1.16551962],\n",
       "       [ 0.0268406 , -0.58129926],\n",
       "       [-0.2677513 ,  2.25216949],\n",
       "       [-0.2677513 ,  0.20739823],\n",
       "       [ 0.3214325 ,  0.26582026],\n",
       "       [-0.0713567 , -1.07788657],\n",
       "       [ 2.1871812 , -0.69814333],\n",
       "       [-0.95513241, -0.3184001 ],\n",
       "       [-1.44611891, -0.11392297],\n",
       "       [-1.44611891, -0.20155602],\n",
       "       [-0.75873781, -1.54526286],\n",
       "       [-1.24972431, -1.07788657],\n",
       "       [ 2.0889839 ,  0.38266434],\n",
       "       [ 1.9907866 , -0.93183148],\n",
       "       [-1.93710541,  0.35345332],\n",
       "       [ 0.812419  , -0.3184001 ],\n",
       "       [-1.05332971, -1.54526286],\n",
       "       [ 1.9907866 , -0.66893231],\n",
       "       [ 1.0088136 , -1.16551962],\n",
       "       [ 1.1070109 , -0.14313399],\n",
       "       [ 1.2052082 , -0.99025351],\n",
       "       [ 1.4998001 ,  0.06134314],\n",
       "       [ 0.2232352 , -0.37682213],\n",
       "       [ 1.4016028 ,  1.2882059 ],\n",
       "       [ 2.0889839 , -0.8149874 ],\n",
       "       [-0.169554  , -0.20155602],\n",
       "       [ 0.4196298 ,  0.99609572],\n",
       "       [-0.0713567 , -0.52287722],\n",
       "       [ 1.0088136 , -1.07788657],\n",
       "       [ 2.0889839 , -1.19473064],\n",
       "       [-0.0713567 ,  0.26582026],\n",
       "       [ 0.2232352 , -0.25997806],\n",
       "       [ 1.1070109 ,  0.11976517],\n",
       "       [-1.24972431,  0.58714146],\n",
       "       [-0.75873781, -1.60368489],\n",
       "       [ 0.2232352 ,  0.23660925],\n",
       "       [-1.34792161,  0.41187535],\n",
       "       [ 0.0268406 , -0.58129926],\n",
       "       [ 0.7142217 ,  1.7847932 ],\n",
       "       [-1.64251351,  0.06134314],\n",
       "       [-0.2677513 , -1.36999675],\n",
       "       [-0.2677513 , -1.4576298 ],\n",
       "       [-0.66054051,  0.55793045],\n",
       "       [-0.75873781,  0.29503128],\n",
       "       [ 0.9106163 , -0.66893231],\n",
       "       [-1.05332971,  0.58714146],\n",
       "       [-0.2677513 ,  0.06134314],\n",
       "       [-0.75873781,  1.34662793],\n",
       "       [ 0.1250379 ,  1.52189404],\n",
       "       [-0.85693511,  0.38266434],\n",
       "       [ 0.3214325 , -0.20155602],\n",
       "       [ 1.0088136 ,  0.58714146],\n",
       "       [ 0.0268406 , -0.3184001 ],\n",
       "       [-0.56234321, -1.51605184],\n",
       "       [ 0.1250379 ,  0.14897619],\n",
       "       [-1.15152701,  0.3242423 ],\n",
       "       [ 0.1250379 ,  1.05451775],\n",
       "       [-1.54431621, -0.43524417],\n",
       "       [-0.169554  ,  1.40504997],\n",
       "       [ 2.1871812 , -0.8149874 ],\n",
       "       [-0.95513241, -0.43524417],\n",
       "       [ 1.3034055 ,  1.87242626],\n",
       "       [ 1.1070109 , -1.22394166],\n",
       "       [-0.169554  , -0.28918908],\n",
       "       [ 1.794392  ,  0.99609572],\n",
       "       [-1.05332971, -0.34761112],\n",
       "       [-1.34792161, -1.10709759],\n",
       "       [-0.36594861,  0.06134314],\n",
       "       [-0.95513241, -1.10709759],\n",
       "       [ 1.2052082 , -1.4576298 ],\n",
       "       [-0.46414591, -0.84419842],\n",
       "       [-0.85693511, -0.66893231],\n",
       "       [-1.54431621, -1.51605184],\n",
       "       [-0.75873781,  1.90163728],\n",
       "       [ 0.9106163 ,  1.02530673],\n",
       "       [ 0.812419  ,  0.26582026],\n",
       "       [ 1.0088136 ,  1.87242626],\n",
       "       [ 0.9106163 , -0.61051028],\n",
       "       [ 1.1070109 ,  2.07690339],\n",
       "       [-0.56234321,  0.87925164],\n",
       "       [ 0.0268406 ,  0.03213212],\n",
       "       [-1.83890811, -1.28236369],\n",
       "       [-0.0713567 ,  0.20739823],\n",
       "       [ 0.9106163 , -0.55208824],\n",
       "       [ 0.2232352 , -0.37682213],\n",
       "       [-0.169554  ,  1.6095271 ],\n",
       "       [-1.74071081,  0.11976517],\n",
       "       [-0.66054051, -0.34761112],\n",
       "       [ 0.3214325 , -0.72735435],\n",
       "       [ 0.4196298 , -0.46445519],\n",
       "       [-0.95513241, -0.96104249],\n",
       "       [ 0.1250379 ,  0.09055416],\n",
       "       [-0.95513241,  0.44108637],\n",
       "       [ 0.0268406 , -0.55208824],\n",
       "       [ 0.9106163 , -0.78577639],\n",
       "       [-0.0713567 ,  0.06134314],\n",
       "       [ 1.1070109 , -0.99025351],\n",
       "       [ 0.7142217 , -1.39920777],\n",
       "       [-0.2677513 ,  0.06134314],\n",
       "       [-1.34792161, -1.25315268],\n",
       "       [-1.15152701, -1.01946453],\n",
       "       [ 0.5178271 ,  1.84321524],\n",
       "       [ 0.1250379 ,  0.20739823],\n",
       "       [-0.56234321,  0.47029739]])"
      ]
     },
     "execution_count": 92,
     "metadata": {},
     "output_type": "execute_result"
    }
   ],
   "source": [
    "x_train"
   ]
  },
  {
   "cell_type": "code",
   "execution_count": 10,
   "id": "65a5db44",
   "metadata": {},
   "outputs": [],
   "source": [
    "x_test=sc.fit_transform(x_test)"
   ]
  },
  {
   "cell_type": "code",
   "execution_count": 11,
   "id": "7e6ec318",
   "metadata": {},
   "outputs": [
    {
     "data": {
      "text/plain": [
       "array([[ 0.75872215, -1.41078892],\n",
       "       [ 1.9109871 ,  0.5590031 ],\n",
       "       [-0.83672162, -0.75419158],\n",
       "       [ 0.93599368,  0.79776576],\n",
       "       [-0.74808586, -1.23171691],\n",
       "       [-0.65945009, -0.21697557],\n",
       "       [ 0.84735791,  1.12606443],\n",
       "       [-0.74808586,  0.40977643],\n",
       "       [ 0.22690756,  0.17101376],\n",
       "       [ 0.40417909, -0.12743957],\n",
       "       [-0.21627127, -0.12743957],\n",
       "       [ 1.37917251, -1.05264491],\n",
       "       [-1.27990045, -0.63481024],\n",
       "       [-1.54580774, -1.38094358],\n",
       "       [-0.65945009,  0.52915776],\n",
       "       [-0.21627127,  1.15590977],\n",
       "       [ 1.29053674, -0.93326358],\n",
       "       [ 0.75872215,  0.14116843],\n",
       "       [ 0.13827179, -0.81388224],\n",
       "       [ 1.6450798 , -0.27666624],\n",
       "       [-1.36853621, -1.26156225],\n",
       "       [-0.74808586,  0.32024043],\n",
       "       [ 0.84735791, -1.38094358],\n",
       "       [ 1.9109871 ,  0.20085909],\n",
       "       [-1.63444351, -1.50032492],\n",
       "       [ 1.20190098, -1.38094358],\n",
       "       [ 0.40417909,  0.32024043],\n",
       "       [-0.03899974, -0.48558358],\n",
       "       [ 1.55644404,  1.66328044],\n",
       "       [-1.63444351, -1.44063425],\n",
       "       [ 0.75872215, -0.84372758],\n",
       "       [-1.63444351,  0.02178709],\n",
       "       [-0.1276355 ,  2.23034177],\n",
       "       [-0.83672162,  0.2903951 ],\n",
       "       [ 0.22690756,  1.12606443],\n",
       "       [-0.21627127,  0.17101376],\n",
       "       [-0.03899974, -0.42589291],\n",
       "       [ 0.04963603, -0.12743957],\n",
       "       [-1.01399315, -1.17202625],\n",
       "       [-1.72307927, -0.03790357],\n",
       "       [ 0.93599368, -1.08249025],\n",
       "       [-1.19126468, -0.42589291],\n",
       "       [-1.72307927, -0.51542891],\n",
       "       [ 0.84735791, -1.47047958],\n",
       "       [-1.54580774, -0.60496491],\n",
       "       [ 0.58145062,  2.08111511],\n",
       "       [-0.74808586, -0.24682091],\n",
       "       [-0.57081433,  0.05163243],\n",
       "       [ 0.93599368, -0.84372758],\n",
       "       [-0.30490703, -0.78403691],\n",
       "       [-1.10262892,  0.2903951 ],\n",
       "       [ 1.37917251,  0.3799311 ],\n",
       "       [ 0.04963603, -0.42589291],\n",
       "       [-1.10262892,  0.32024043],\n",
       "       [-0.03899974,  0.32024043],\n",
       "       [-0.92535739, -1.14218091],\n",
       "       [ 1.99962286,  0.97683777],\n",
       "       [-1.01399315,  1.4543631 ],\n",
       "       [-0.57081433,  0.14116843],\n",
       "       [-0.57081433,  0.20085909],\n",
       "       [ 0.31554332, -0.54527424],\n",
       "       [-0.21627127, -0.36620224],\n",
       "       [ 1.29053674,  0.61869376],\n",
       "       [-0.83672162,  0.52915776],\n",
       "       [-0.83672162, -0.30651158],\n",
       "       [-0.92535739,  2.02142444],\n",
       "       [ 0.40417909,  0.61869376],\n",
       "       [ 0.84735791,  2.23034177],\n",
       "       [ 0.13827179, -0.30651158],\n",
       "       [-0.3935428 ,  1.30513643],\n",
       "       [ 1.29053674,  2.05126977],\n",
       "       [-1.63444351,  0.4694671 ],\n",
       "       [-0.92535739, -0.33635691],\n",
       "       [-1.27990045, -1.47047958],\n",
       "       [ 0.84735791, -1.05264491],\n",
       "       [-0.21627127, -0.57511958],\n",
       "       [ 1.6450798 ,  1.9020431 ],\n",
       "       [ 1.46780827, -1.29140758],\n",
       "       [-0.21627127, -0.66465558],\n",
       "       [-0.03899974,  0.26054976],\n",
       "       [-0.92535739, -0.36620224],\n",
       "       [ 0.75872215, -1.23171691],\n",
       "       [ 0.13827179,  1.93188844],\n",
       "       [ 0.58145062, -0.90341825],\n",
       "       [ 1.73371557, -1.29140758],\n",
       "       [-0.48217856,  1.51405377],\n",
       "       [ 0.31554332, -0.51542891],\n",
       "       [ 0.93599368,  0.14116843],\n",
       "       [-1.01399315,  0.49931243],\n",
       "       [-1.36853621,  0.35008576],\n",
       "       [ 1.02462945,  0.49931243],\n",
       "       [-0.1276355 , -0.45573824],\n",
       "       [ 0.22690756, -0.30651158],\n",
       "       [ 0.31554332,  0.32024043],\n",
       "       [-1.01399315, -1.58986092],\n",
       "       [ 0.13827179,  0.2903951 ],\n",
       "       [ 1.9109871 ,  1.8125071 ],\n",
       "       [ 0.40417909, -0.15728491],\n",
       "       [ 1.37917251,  2.20049644],\n",
       "       [-0.30490703,  1.2752911 ]])"
      ]
     },
     "execution_count": 11,
     "metadata": {},
     "output_type": "execute_result"
    }
   ],
   "source": [
    "x_test"
   ]
  },
  {
   "cell_type": "code",
   "execution_count": 12,
   "id": "fe2572b0",
   "metadata": {},
   "outputs": [
    {
     "data": {
      "text/plain": [
       "209    0\n",
       "280    1\n",
       "33     0\n",
       "210    1\n",
       "93     0\n",
       "      ..\n",
       "314    0\n",
       "373    1\n",
       "380    0\n",
       "239    1\n",
       "75     1\n",
       "Name: Purchased, Length: 100, dtype: int64"
      ]
     },
     "execution_count": 12,
     "metadata": {},
     "output_type": "execute_result"
    }
   ],
   "source": [
    "y_test"
   ]
  },
  {
   "cell_type": "markdown",
   "id": "575e1414",
   "metadata": {},
   "source": [
    "#                       Logistic Regression"
   ]
  },
  {
   "cell_type": "code",
   "execution_count": 51,
   "id": "4454e815",
   "metadata": {},
   "outputs": [
    {
     "data": {
      "text/html": [
       "<style>#sk-container-id-6 {color: black;background-color: white;}#sk-container-id-6 pre{padding: 0;}#sk-container-id-6 div.sk-toggleable {background-color: white;}#sk-container-id-6 label.sk-toggleable__label {cursor: pointer;display: block;width: 100%;margin-bottom: 0;padding: 0.3em;box-sizing: border-box;text-align: center;}#sk-container-id-6 label.sk-toggleable__label-arrow:before {content: \"▸\";float: left;margin-right: 0.25em;color: #696969;}#sk-container-id-6 label.sk-toggleable__label-arrow:hover:before {color: black;}#sk-container-id-6 div.sk-estimator:hover label.sk-toggleable__label-arrow:before {color: black;}#sk-container-id-6 div.sk-toggleable__content {max-height: 0;max-width: 0;overflow: hidden;text-align: left;background-color: #f0f8ff;}#sk-container-id-6 div.sk-toggleable__content pre {margin: 0.2em;color: black;border-radius: 0.25em;background-color: #f0f8ff;}#sk-container-id-6 input.sk-toggleable__control:checked~div.sk-toggleable__content {max-height: 200px;max-width: 100%;overflow: auto;}#sk-container-id-6 input.sk-toggleable__control:checked~label.sk-toggleable__label-arrow:before {content: \"▾\";}#sk-container-id-6 div.sk-estimator input.sk-toggleable__control:checked~label.sk-toggleable__label {background-color: #d4ebff;}#sk-container-id-6 div.sk-label input.sk-toggleable__control:checked~label.sk-toggleable__label {background-color: #d4ebff;}#sk-container-id-6 input.sk-hidden--visually {border: 0;clip: rect(1px 1px 1px 1px);clip: rect(1px, 1px, 1px, 1px);height: 1px;margin: -1px;overflow: hidden;padding: 0;position: absolute;width: 1px;}#sk-container-id-6 div.sk-estimator {font-family: monospace;background-color: #f0f8ff;border: 1px dotted black;border-radius: 0.25em;box-sizing: border-box;margin-bottom: 0.5em;}#sk-container-id-6 div.sk-estimator:hover {background-color: #d4ebff;}#sk-container-id-6 div.sk-parallel-item::after {content: \"\";width: 100%;border-bottom: 1px solid gray;flex-grow: 1;}#sk-container-id-6 div.sk-label:hover label.sk-toggleable__label {background-color: #d4ebff;}#sk-container-id-6 div.sk-serial::before {content: \"\";position: absolute;border-left: 1px solid gray;box-sizing: border-box;top: 0;bottom: 0;left: 50%;z-index: 0;}#sk-container-id-6 div.sk-serial {display: flex;flex-direction: column;align-items: center;background-color: white;padding-right: 0.2em;padding-left: 0.2em;position: relative;}#sk-container-id-6 div.sk-item {position: relative;z-index: 1;}#sk-container-id-6 div.sk-parallel {display: flex;align-items: stretch;justify-content: center;background-color: white;position: relative;}#sk-container-id-6 div.sk-item::before, #sk-container-id-6 div.sk-parallel-item::before {content: \"\";position: absolute;border-left: 1px solid gray;box-sizing: border-box;top: 0;bottom: 0;left: 50%;z-index: -1;}#sk-container-id-6 div.sk-parallel-item {display: flex;flex-direction: column;z-index: 1;position: relative;background-color: white;}#sk-container-id-6 div.sk-parallel-item:first-child::after {align-self: flex-end;width: 50%;}#sk-container-id-6 div.sk-parallel-item:last-child::after {align-self: flex-start;width: 50%;}#sk-container-id-6 div.sk-parallel-item:only-child::after {width: 0;}#sk-container-id-6 div.sk-dashed-wrapped {border: 1px dashed gray;margin: 0 0.4em 0.5em 0.4em;box-sizing: border-box;padding-bottom: 0.4em;background-color: white;}#sk-container-id-6 div.sk-label label {font-family: monospace;font-weight: bold;display: inline-block;line-height: 1.2em;}#sk-container-id-6 div.sk-label-container {text-align: center;}#sk-container-id-6 div.sk-container {/* jupyter's `normalize.less` sets `[hidden] { display: none; }` but bootstrap.min.css set `[hidden] { display: none !important; }` so we also need the `!important` here to be able to override the default hidden behavior on the sphinx rendered scikit-learn.org. See: https://github.com/scikit-learn/scikit-learn/issues/21755 */display: inline-block !important;position: relative;}#sk-container-id-6 div.sk-text-repr-fallback {display: none;}</style><div id=\"sk-container-id-6\" class=\"sk-top-container\"><div class=\"sk-text-repr-fallback\"><pre>LogisticRegression(random_state=0)</pre><b>In a Jupyter environment, please rerun this cell to show the HTML representation or trust the notebook. <br />On GitHub, the HTML representation is unable to render, please try loading this page with nbviewer.org.</b></div><div class=\"sk-container\" hidden><div class=\"sk-item\"><div class=\"sk-estimator sk-toggleable\"><input class=\"sk-toggleable__control sk-hidden--visually\" id=\"sk-estimator-id-6\" type=\"checkbox\" checked><label for=\"sk-estimator-id-6\" class=\"sk-toggleable__label sk-toggleable__label-arrow\">LogisticRegression</label><div class=\"sk-toggleable__content\"><pre>LogisticRegression(random_state=0)</pre></div></div></div></div></div>"
      ],
      "text/plain": [
       "LogisticRegression(random_state=0)"
      ]
     },
     "execution_count": 51,
     "metadata": {},
     "output_type": "execute_result"
    }
   ],
   "source": [
    "from sklearn.linear_model import LogisticRegression\n",
    "lgc=LogisticRegression(random_state=0)\n",
    "lgc.fit(x_train,y_train)"
   ]
  },
  {
   "cell_type": "code",
   "execution_count": 52,
   "id": "49511f9f",
   "metadata": {},
   "outputs": [
    {
     "name": "stdout",
     "output_type": "stream",
     "text": [
      "LogisticRegression(random_state=0)\n"
     ]
    }
   ],
   "source": [
    "print(lgc)"
   ]
  },
  {
   "cell_type": "code",
   "execution_count": 53,
   "id": "f9295ef2",
   "metadata": {},
   "outputs": [
    {
     "name": "stderr",
     "output_type": "stream",
     "text": [
      "C:\\Users\\geeth\\anaconda3\\lib\\site-packages\\sklearn\\base.py:420: UserWarning: X does not have valid feature names, but StandardScaler was fitted with feature names\n",
      "  warnings.warn(\n"
     ]
    },
    {
     "data": {
      "text/plain": [
       "array([0], dtype=int64)"
      ]
     },
     "execution_count": 53,
     "metadata": {},
     "output_type": "execute_result"
    }
   ],
   "source": [
    "lgc.predict(sc.transform([[46,22000]]))"
   ]
  },
  {
   "cell_type": "code",
   "execution_count": null,
   "id": "0d2e6fe8",
   "metadata": {},
   "outputs": [],
   "source": []
  },
  {
   "cell_type": "code",
   "execution_count": 54,
   "id": "014b1a60",
   "metadata": {},
   "outputs": [],
   "source": [
    "import numpy as np\n",
    "y_pred=lgc.predict(x_test)\n",
    "#print(np.concatenate((y_pred.reshape(len(y_pred),1),y_test.reshape(len(y_test),1)),1))"
   ]
  },
  {
   "cell_type": "code",
   "execution_count": 55,
   "id": "ab314f85",
   "metadata": {},
   "outputs": [],
   "source": [
    "from sklearn.metrics import confusion_matrix,accuracy_score\n",
    "cm=confusion_matrix(y_pred,y_test)"
   ]
  },
  {
   "cell_type": "code",
   "execution_count": 56,
   "id": "aff4d860",
   "metadata": {},
   "outputs": [],
   "source": [
    "cm\n",
    "acc=accuracy_score(y_pred,y_test,normalize=False)"
   ]
  },
  {
   "cell_type": "code",
   "execution_count": 57,
   "id": "8933fb21",
   "metadata": {},
   "outputs": [
    {
     "name": "stdout",
     "output_type": "stream",
     "text": [
      "Logistic Regression Accuracy: 86\n"
     ]
    }
   ],
   "source": [
    "print(\"Logistic Regression Accuracy:\",acc )"
   ]
  },
  {
   "cell_type": "markdown",
   "id": "57a6f17b",
   "metadata": {},
   "source": [
    "#                                          KNN NEIGHBOR\n",
    "     "
   ]
  },
  {
   "cell_type": "code",
   "execution_count": 59,
   "id": "ceebd612",
   "metadata": {},
   "outputs": [
    {
     "data": {
      "text/html": [
       "<style>#sk-container-id-7 {color: black;background-color: white;}#sk-container-id-7 pre{padding: 0;}#sk-container-id-7 div.sk-toggleable {background-color: white;}#sk-container-id-7 label.sk-toggleable__label {cursor: pointer;display: block;width: 100%;margin-bottom: 0;padding: 0.3em;box-sizing: border-box;text-align: center;}#sk-container-id-7 label.sk-toggleable__label-arrow:before {content: \"▸\";float: left;margin-right: 0.25em;color: #696969;}#sk-container-id-7 label.sk-toggleable__label-arrow:hover:before {color: black;}#sk-container-id-7 div.sk-estimator:hover label.sk-toggleable__label-arrow:before {color: black;}#sk-container-id-7 div.sk-toggleable__content {max-height: 0;max-width: 0;overflow: hidden;text-align: left;background-color: #f0f8ff;}#sk-container-id-7 div.sk-toggleable__content pre {margin: 0.2em;color: black;border-radius: 0.25em;background-color: #f0f8ff;}#sk-container-id-7 input.sk-toggleable__control:checked~div.sk-toggleable__content {max-height: 200px;max-width: 100%;overflow: auto;}#sk-container-id-7 input.sk-toggleable__control:checked~label.sk-toggleable__label-arrow:before {content: \"▾\";}#sk-container-id-7 div.sk-estimator input.sk-toggleable__control:checked~label.sk-toggleable__label {background-color: #d4ebff;}#sk-container-id-7 div.sk-label input.sk-toggleable__control:checked~label.sk-toggleable__label {background-color: #d4ebff;}#sk-container-id-7 input.sk-hidden--visually {border: 0;clip: rect(1px 1px 1px 1px);clip: rect(1px, 1px, 1px, 1px);height: 1px;margin: -1px;overflow: hidden;padding: 0;position: absolute;width: 1px;}#sk-container-id-7 div.sk-estimator {font-family: monospace;background-color: #f0f8ff;border: 1px dotted black;border-radius: 0.25em;box-sizing: border-box;margin-bottom: 0.5em;}#sk-container-id-7 div.sk-estimator:hover {background-color: #d4ebff;}#sk-container-id-7 div.sk-parallel-item::after {content: \"\";width: 100%;border-bottom: 1px solid gray;flex-grow: 1;}#sk-container-id-7 div.sk-label:hover label.sk-toggleable__label {background-color: #d4ebff;}#sk-container-id-7 div.sk-serial::before {content: \"\";position: absolute;border-left: 1px solid gray;box-sizing: border-box;top: 0;bottom: 0;left: 50%;z-index: 0;}#sk-container-id-7 div.sk-serial {display: flex;flex-direction: column;align-items: center;background-color: white;padding-right: 0.2em;padding-left: 0.2em;position: relative;}#sk-container-id-7 div.sk-item {position: relative;z-index: 1;}#sk-container-id-7 div.sk-parallel {display: flex;align-items: stretch;justify-content: center;background-color: white;position: relative;}#sk-container-id-7 div.sk-item::before, #sk-container-id-7 div.sk-parallel-item::before {content: \"\";position: absolute;border-left: 1px solid gray;box-sizing: border-box;top: 0;bottom: 0;left: 50%;z-index: -1;}#sk-container-id-7 div.sk-parallel-item {display: flex;flex-direction: column;z-index: 1;position: relative;background-color: white;}#sk-container-id-7 div.sk-parallel-item:first-child::after {align-self: flex-end;width: 50%;}#sk-container-id-7 div.sk-parallel-item:last-child::after {align-self: flex-start;width: 50%;}#sk-container-id-7 div.sk-parallel-item:only-child::after {width: 0;}#sk-container-id-7 div.sk-dashed-wrapped {border: 1px dashed gray;margin: 0 0.4em 0.5em 0.4em;box-sizing: border-box;padding-bottom: 0.4em;background-color: white;}#sk-container-id-7 div.sk-label label {font-family: monospace;font-weight: bold;display: inline-block;line-height: 1.2em;}#sk-container-id-7 div.sk-label-container {text-align: center;}#sk-container-id-7 div.sk-container {/* jupyter's `normalize.less` sets `[hidden] { display: none; }` but bootstrap.min.css set `[hidden] { display: none !important; }` so we also need the `!important` here to be able to override the default hidden behavior on the sphinx rendered scikit-learn.org. See: https://github.com/scikit-learn/scikit-learn/issues/21755 */display: inline-block !important;position: relative;}#sk-container-id-7 div.sk-text-repr-fallback {display: none;}</style><div id=\"sk-container-id-7\" class=\"sk-top-container\"><div class=\"sk-text-repr-fallback\"><pre>KNeighborsClassifier()</pre><b>In a Jupyter environment, please rerun this cell to show the HTML representation or trust the notebook. <br />On GitHub, the HTML representation is unable to render, please try loading this page with nbviewer.org.</b></div><div class=\"sk-container\" hidden><div class=\"sk-item\"><div class=\"sk-estimator sk-toggleable\"><input class=\"sk-toggleable__control sk-hidden--visually\" id=\"sk-estimator-id-7\" type=\"checkbox\" checked><label for=\"sk-estimator-id-7\" class=\"sk-toggleable__label sk-toggleable__label-arrow\">KNeighborsClassifier</label><div class=\"sk-toggleable__content\"><pre>KNeighborsClassifier()</pre></div></div></div></div></div>"
      ],
      "text/plain": [
       "KNeighborsClassifier()"
      ]
     },
     "execution_count": 59,
     "metadata": {},
     "output_type": "execute_result"
    }
   ],
   "source": [
    "from sklearn.neighbors import KNeighborsClassifier\n",
    "knn=KNeighborsClassifier(n_neighbors=5,metric='minkowski',p=2)\n",
    "knn.fit(x_train,y_train)"
   ]
  },
  {
   "cell_type": "code",
   "execution_count": 60,
   "id": "83cd4930",
   "metadata": {},
   "outputs": [],
   "source": [
    "y_pred=knn.predict(x_test)"
   ]
  },
  {
   "cell_type": "code",
   "execution_count": 61,
   "id": "bfe0a8b0",
   "metadata": {},
   "outputs": [
    {
     "data": {
      "text/plain": [
       "array([1, 1, 0, 1, 0, 0, 1, 0, 0, 0, 0, 1, 0, 0, 0, 1, 1, 0, 0, 1, 0, 0,\n",
       "       1, 1, 0, 1, 0, 0, 1, 0, 1, 0, 1, 0, 1, 0, 0, 0, 0, 0, 1, 0, 0, 1,\n",
       "       0, 1, 0, 0, 1, 0, 0, 1, 0, 0, 0, 0, 1, 1, 0, 0, 0, 0, 1, 0, 0, 1,\n",
       "       1, 1, 0, 1, 1, 0, 0, 0, 1, 0, 1, 1, 0, 0, 0, 1, 1, 1, 1, 0, 0, 0,\n",
       "       0, 0, 1, 0, 0, 0, 0, 0, 1, 0, 1, 1], dtype=int64)"
      ]
     },
     "execution_count": 61,
     "metadata": {},
     "output_type": "execute_result"
    }
   ],
   "source": [
    "y_pred"
   ]
  },
  {
   "cell_type": "code",
   "execution_count": 62,
   "id": "a2b33a2b",
   "metadata": {},
   "outputs": [
    {
     "data": {
      "text/plain": [
       "92"
      ]
     },
     "execution_count": 62,
     "metadata": {},
     "output_type": "execute_result"
    }
   ],
   "source": [
    "from sklearn.metrics import confusion_matrix,accuracy_score\n",
    "cm=confusion_matrix(y_pred,y_test)\n",
    "accuracy_score(y_pred,y_test,normalize=False)"
   ]
  },
  {
   "cell_type": "code",
   "execution_count": 64,
   "id": "a66c8a9a",
   "metadata": {},
   "outputs": [
    {
     "name": "stdout",
     "output_type": "stream",
     "text": [
      "KNN Accuracy: 92\n"
     ]
    }
   ],
   "source": [
    "print(\"KNN Accuracy:\", accuracy_score(y_pred,y_test,normalize=False))"
   ]
  },
  {
   "cell_type": "code",
   "execution_count": 23,
   "id": "56a308c3",
   "metadata": {},
   "outputs": [
    {
     "data": {
      "text/plain": [
       "array([[58,  3],\n",
       "       [ 5, 34]], dtype=int64)"
      ]
     },
     "execution_count": 23,
     "metadata": {},
     "output_type": "execute_result"
    }
   ],
   "source": [
    "cm"
   ]
  },
  {
   "cell_type": "markdown",
   "id": "cbe7c143",
   "metadata": {},
   "source": [
    "#                             Support VEctor Model    "
   ]
  },
  {
   "cell_type": "code",
   "execution_count": 31,
   "id": "e22a15a7",
   "metadata": {},
   "outputs": [
    {
     "name": "stdout",
     "output_type": "stream",
     "text": [
      "SVC(kernel='linear')\n"
     ]
    }
   ],
   "source": [
    "from sklearn.svm import SVC\n",
    "svc=SVC( kernel='linear',random_state=None)\n",
    "print(svc.fit(x_train,y_train))"
   ]
  },
  {
   "cell_type": "code",
   "execution_count": 32,
   "id": "ce367cae",
   "metadata": {},
   "outputs": [
    {
     "data": {
      "text/plain": [
       "array([0, 1, 0, 1, 0, 0, 1, 0, 0, 0, 0, 1, 0, 0, 0, 0, 1, 1, 0, 1, 0, 0,\n",
       "       0, 1, 0, 0, 1, 0, 1, 0, 0, 0, 1, 0, 1, 0, 0, 0, 0, 0, 0, 0, 0, 0,\n",
       "       0, 1, 0, 0, 0, 0, 0, 1, 0, 0, 0, 0, 1, 0, 0, 0, 0, 0, 1, 0, 0, 0,\n",
       "       1, 1, 0, 0, 1, 0, 0, 0, 0, 0, 1, 1, 0, 0, 0, 0, 1, 0, 1, 0, 0, 1,\n",
       "       0, 0, 1, 0, 0, 0, 0, 0, 1, 0, 1, 0], dtype=int64)"
      ]
     },
     "execution_count": 32,
     "metadata": {},
     "output_type": "execute_result"
    }
   ],
   "source": [
    "y_pred=svc.predict(x_test)\n",
    "y_pred"
   ]
  },
  {
   "cell_type": "code",
   "execution_count": 33,
   "id": "a4212a59",
   "metadata": {},
   "outputs": [
    {
     "data": {
      "text/plain": [
       "86"
      ]
     },
     "execution_count": 33,
     "metadata": {},
     "output_type": "execute_result"
    }
   ],
   "source": [
    "accuracy_score(y_pred,y_test,normalize=False)"
   ]
  },
  {
   "cell_type": "markdown",
   "id": "44c30446",
   "metadata": {},
   "source": [
    "### SVM WITH RBF KERNEL"
   ]
  },
  {
   "cell_type": "code",
   "execution_count": 35,
   "id": "9c838941",
   "metadata": {},
   "outputs": [],
   "source": [
    "svm_rbf = SVC(kernel='rbf', random_state=0)\n"
   ]
  },
  {
   "cell_type": "code",
   "execution_count": 28,
   "id": "4bdb3ac4",
   "metadata": {},
   "outputs": [],
   "source": [
    "svm_rbf.fit(x_train, y_train)\n",
    "y_pred_rbf = svm_rbf.predict(x_test)\n"
   ]
  },
  {
   "cell_type": "code",
   "execution_count": 29,
   "id": "cd800fb9",
   "metadata": {},
   "outputs": [],
   "source": [
    "accuracy_rbf = accuracy_score(y_pred_rbf, y_test)\n"
   ]
  },
  {
   "cell_type": "code",
   "execution_count": 30,
   "id": "58bde50a",
   "metadata": {},
   "outputs": [
    {
     "name": "stdout",
     "output_type": "stream",
     "text": [
      "SVM with RBF Kernel Accuracy: 0.95\n"
     ]
    }
   ],
   "source": [
    "print(\"SVM with RBF Kernel Accuracy:\", accuracy_rbf)"
   ]
  },
  {
   "cell_type": "markdown",
   "id": "4bd0bda0",
   "metadata": {},
   "source": [
    "# Decision Tree classifier"
   ]
  },
  {
   "cell_type": "code",
   "execution_count": 36,
   "id": "097c3151",
   "metadata": {},
   "outputs": [],
   "source": [
    "from sklearn.tree import DecisionTreeClassifier"
   ]
  },
  {
   "cell_type": "code",
   "execution_count": 39,
   "id": "74af253b",
   "metadata": {},
   "outputs": [],
   "source": [
    "dtc=DecisionTreeClassifier(random_state=0)"
   ]
  },
  {
   "cell_type": "code",
   "execution_count": 40,
   "id": "0fdbb1f0",
   "metadata": {},
   "outputs": [
    {
     "data": {
      "text/html": [
       "<style>#sk-container-id-4 {color: black;background-color: white;}#sk-container-id-4 pre{padding: 0;}#sk-container-id-4 div.sk-toggleable {background-color: white;}#sk-container-id-4 label.sk-toggleable__label {cursor: pointer;display: block;width: 100%;margin-bottom: 0;padding: 0.3em;box-sizing: border-box;text-align: center;}#sk-container-id-4 label.sk-toggleable__label-arrow:before {content: \"▸\";float: left;margin-right: 0.25em;color: #696969;}#sk-container-id-4 label.sk-toggleable__label-arrow:hover:before {color: black;}#sk-container-id-4 div.sk-estimator:hover label.sk-toggleable__label-arrow:before {color: black;}#sk-container-id-4 div.sk-toggleable__content {max-height: 0;max-width: 0;overflow: hidden;text-align: left;background-color: #f0f8ff;}#sk-container-id-4 div.sk-toggleable__content pre {margin: 0.2em;color: black;border-radius: 0.25em;background-color: #f0f8ff;}#sk-container-id-4 input.sk-toggleable__control:checked~div.sk-toggleable__content {max-height: 200px;max-width: 100%;overflow: auto;}#sk-container-id-4 input.sk-toggleable__control:checked~label.sk-toggleable__label-arrow:before {content: \"▾\";}#sk-container-id-4 div.sk-estimator input.sk-toggleable__control:checked~label.sk-toggleable__label {background-color: #d4ebff;}#sk-container-id-4 div.sk-label input.sk-toggleable__control:checked~label.sk-toggleable__label {background-color: #d4ebff;}#sk-container-id-4 input.sk-hidden--visually {border: 0;clip: rect(1px 1px 1px 1px);clip: rect(1px, 1px, 1px, 1px);height: 1px;margin: -1px;overflow: hidden;padding: 0;position: absolute;width: 1px;}#sk-container-id-4 div.sk-estimator {font-family: monospace;background-color: #f0f8ff;border: 1px dotted black;border-radius: 0.25em;box-sizing: border-box;margin-bottom: 0.5em;}#sk-container-id-4 div.sk-estimator:hover {background-color: #d4ebff;}#sk-container-id-4 div.sk-parallel-item::after {content: \"\";width: 100%;border-bottom: 1px solid gray;flex-grow: 1;}#sk-container-id-4 div.sk-label:hover label.sk-toggleable__label {background-color: #d4ebff;}#sk-container-id-4 div.sk-serial::before {content: \"\";position: absolute;border-left: 1px solid gray;box-sizing: border-box;top: 0;bottom: 0;left: 50%;z-index: 0;}#sk-container-id-4 div.sk-serial {display: flex;flex-direction: column;align-items: center;background-color: white;padding-right: 0.2em;padding-left: 0.2em;position: relative;}#sk-container-id-4 div.sk-item {position: relative;z-index: 1;}#sk-container-id-4 div.sk-parallel {display: flex;align-items: stretch;justify-content: center;background-color: white;position: relative;}#sk-container-id-4 div.sk-item::before, #sk-container-id-4 div.sk-parallel-item::before {content: \"\";position: absolute;border-left: 1px solid gray;box-sizing: border-box;top: 0;bottom: 0;left: 50%;z-index: -1;}#sk-container-id-4 div.sk-parallel-item {display: flex;flex-direction: column;z-index: 1;position: relative;background-color: white;}#sk-container-id-4 div.sk-parallel-item:first-child::after {align-self: flex-end;width: 50%;}#sk-container-id-4 div.sk-parallel-item:last-child::after {align-self: flex-start;width: 50%;}#sk-container-id-4 div.sk-parallel-item:only-child::after {width: 0;}#sk-container-id-4 div.sk-dashed-wrapped {border: 1px dashed gray;margin: 0 0.4em 0.5em 0.4em;box-sizing: border-box;padding-bottom: 0.4em;background-color: white;}#sk-container-id-4 div.sk-label label {font-family: monospace;font-weight: bold;display: inline-block;line-height: 1.2em;}#sk-container-id-4 div.sk-label-container {text-align: center;}#sk-container-id-4 div.sk-container {/* jupyter's `normalize.less` sets `[hidden] { display: none; }` but bootstrap.min.css set `[hidden] { display: none !important; }` so we also need the `!important` here to be able to override the default hidden behavior on the sphinx rendered scikit-learn.org. See: https://github.com/scikit-learn/scikit-learn/issues/21755 */display: inline-block !important;position: relative;}#sk-container-id-4 div.sk-text-repr-fallback {display: none;}</style><div id=\"sk-container-id-4\" class=\"sk-top-container\"><div class=\"sk-text-repr-fallback\"><pre>DecisionTreeClassifier(random_state=0)</pre><b>In a Jupyter environment, please rerun this cell to show the HTML representation or trust the notebook. <br />On GitHub, the HTML representation is unable to render, please try loading this page with nbviewer.org.</b></div><div class=\"sk-container\" hidden><div class=\"sk-item\"><div class=\"sk-estimator sk-toggleable\"><input class=\"sk-toggleable__control sk-hidden--visually\" id=\"sk-estimator-id-4\" type=\"checkbox\" checked><label for=\"sk-estimator-id-4\" class=\"sk-toggleable__label sk-toggleable__label-arrow\">DecisionTreeClassifier</label><div class=\"sk-toggleable__content\"><pre>DecisionTreeClassifier(random_state=0)</pre></div></div></div></div></div>"
      ],
      "text/plain": [
       "DecisionTreeClassifier(random_state=0)"
      ]
     },
     "execution_count": 40,
     "metadata": {},
     "output_type": "execute_result"
    }
   ],
   "source": [
    "dtc.fit(x_train,y_train)"
   ]
  },
  {
   "cell_type": "code",
   "execution_count": 41,
   "id": "e46e90dd",
   "metadata": {},
   "outputs": [],
   "source": [
    "y_pred_dtc=dtc.predict(x_test)"
   ]
  },
  {
   "cell_type": "code",
   "execution_count": 42,
   "id": "984da72b",
   "metadata": {},
   "outputs": [],
   "source": [
    "accuracy_dtc = accuracy_score(y_pred_dtc, y_test)\n"
   ]
  },
  {
   "cell_type": "code",
   "execution_count": 43,
   "id": "502330c8",
   "metadata": {},
   "outputs": [
    {
     "name": "stdout",
     "output_type": "stream",
     "text": [
      "Decision Tree Accuracy: 0.9\n"
     ]
    }
   ],
   "source": [
    "print(\"Decision Tree Accuracy:\", accuracy_dtc)"
   ]
  },
  {
   "cell_type": "markdown",
   "id": "21c577f5",
   "metadata": {},
   "source": [
    "# Random Forest Classifier"
   ]
  },
  {
   "cell_type": "code",
   "execution_count": 44,
   "id": "a5f7761c",
   "metadata": {},
   "outputs": [],
   "source": [
    "from sklearn.ensemble import RandomForestClassifier"
   ]
  },
  {
   "cell_type": "code",
   "execution_count": 45,
   "id": "c6939b9e",
   "metadata": {},
   "outputs": [],
   "source": [
    "rfc = RandomForestClassifier(n_estimators=100, random_state=0)"
   ]
  },
  {
   "cell_type": "code",
   "execution_count": 46,
   "id": "e8b21622",
   "metadata": {},
   "outputs": [
    {
     "data": {
      "text/html": [
       "<style>#sk-container-id-5 {color: black;background-color: white;}#sk-container-id-5 pre{padding: 0;}#sk-container-id-5 div.sk-toggleable {background-color: white;}#sk-container-id-5 label.sk-toggleable__label {cursor: pointer;display: block;width: 100%;margin-bottom: 0;padding: 0.3em;box-sizing: border-box;text-align: center;}#sk-container-id-5 label.sk-toggleable__label-arrow:before {content: \"▸\";float: left;margin-right: 0.25em;color: #696969;}#sk-container-id-5 label.sk-toggleable__label-arrow:hover:before {color: black;}#sk-container-id-5 div.sk-estimator:hover label.sk-toggleable__label-arrow:before {color: black;}#sk-container-id-5 div.sk-toggleable__content {max-height: 0;max-width: 0;overflow: hidden;text-align: left;background-color: #f0f8ff;}#sk-container-id-5 div.sk-toggleable__content pre {margin: 0.2em;color: black;border-radius: 0.25em;background-color: #f0f8ff;}#sk-container-id-5 input.sk-toggleable__control:checked~div.sk-toggleable__content {max-height: 200px;max-width: 100%;overflow: auto;}#sk-container-id-5 input.sk-toggleable__control:checked~label.sk-toggleable__label-arrow:before {content: \"▾\";}#sk-container-id-5 div.sk-estimator input.sk-toggleable__control:checked~label.sk-toggleable__label {background-color: #d4ebff;}#sk-container-id-5 div.sk-label input.sk-toggleable__control:checked~label.sk-toggleable__label {background-color: #d4ebff;}#sk-container-id-5 input.sk-hidden--visually {border: 0;clip: rect(1px 1px 1px 1px);clip: rect(1px, 1px, 1px, 1px);height: 1px;margin: -1px;overflow: hidden;padding: 0;position: absolute;width: 1px;}#sk-container-id-5 div.sk-estimator {font-family: monospace;background-color: #f0f8ff;border: 1px dotted black;border-radius: 0.25em;box-sizing: border-box;margin-bottom: 0.5em;}#sk-container-id-5 div.sk-estimator:hover {background-color: #d4ebff;}#sk-container-id-5 div.sk-parallel-item::after {content: \"\";width: 100%;border-bottom: 1px solid gray;flex-grow: 1;}#sk-container-id-5 div.sk-label:hover label.sk-toggleable__label {background-color: #d4ebff;}#sk-container-id-5 div.sk-serial::before {content: \"\";position: absolute;border-left: 1px solid gray;box-sizing: border-box;top: 0;bottom: 0;left: 50%;z-index: 0;}#sk-container-id-5 div.sk-serial {display: flex;flex-direction: column;align-items: center;background-color: white;padding-right: 0.2em;padding-left: 0.2em;position: relative;}#sk-container-id-5 div.sk-item {position: relative;z-index: 1;}#sk-container-id-5 div.sk-parallel {display: flex;align-items: stretch;justify-content: center;background-color: white;position: relative;}#sk-container-id-5 div.sk-item::before, #sk-container-id-5 div.sk-parallel-item::before {content: \"\";position: absolute;border-left: 1px solid gray;box-sizing: border-box;top: 0;bottom: 0;left: 50%;z-index: -1;}#sk-container-id-5 div.sk-parallel-item {display: flex;flex-direction: column;z-index: 1;position: relative;background-color: white;}#sk-container-id-5 div.sk-parallel-item:first-child::after {align-self: flex-end;width: 50%;}#sk-container-id-5 div.sk-parallel-item:last-child::after {align-self: flex-start;width: 50%;}#sk-container-id-5 div.sk-parallel-item:only-child::after {width: 0;}#sk-container-id-5 div.sk-dashed-wrapped {border: 1px dashed gray;margin: 0 0.4em 0.5em 0.4em;box-sizing: border-box;padding-bottom: 0.4em;background-color: white;}#sk-container-id-5 div.sk-label label {font-family: monospace;font-weight: bold;display: inline-block;line-height: 1.2em;}#sk-container-id-5 div.sk-label-container {text-align: center;}#sk-container-id-5 div.sk-container {/* jupyter's `normalize.less` sets `[hidden] { display: none; }` but bootstrap.min.css set `[hidden] { display: none !important; }` so we also need the `!important` here to be able to override the default hidden behavior on the sphinx rendered scikit-learn.org. See: https://github.com/scikit-learn/scikit-learn/issues/21755 */display: inline-block !important;position: relative;}#sk-container-id-5 div.sk-text-repr-fallback {display: none;}</style><div id=\"sk-container-id-5\" class=\"sk-top-container\"><div class=\"sk-text-repr-fallback\"><pre>RandomForestClassifier(random_state=0)</pre><b>In a Jupyter environment, please rerun this cell to show the HTML representation or trust the notebook. <br />On GitHub, the HTML representation is unable to render, please try loading this page with nbviewer.org.</b></div><div class=\"sk-container\" hidden><div class=\"sk-item\"><div class=\"sk-estimator sk-toggleable\"><input class=\"sk-toggleable__control sk-hidden--visually\" id=\"sk-estimator-id-5\" type=\"checkbox\" checked><label for=\"sk-estimator-id-5\" class=\"sk-toggleable__label sk-toggleable__label-arrow\">RandomForestClassifier</label><div class=\"sk-toggleable__content\"><pre>RandomForestClassifier(random_state=0)</pre></div></div></div></div></div>"
      ],
      "text/plain": [
       "RandomForestClassifier(random_state=0)"
      ]
     },
     "execution_count": 46,
     "metadata": {},
     "output_type": "execute_result"
    }
   ],
   "source": [
    "rfc.fit(x_train, y_train)"
   ]
  },
  {
   "cell_type": "code",
   "execution_count": 47,
   "id": "637084d0",
   "metadata": {},
   "outputs": [],
   "source": [
    "y_pred_rfc = rfc.predict(x_test)"
   ]
  },
  {
   "cell_type": "code",
   "execution_count": 48,
   "id": "0294b552",
   "metadata": {},
   "outputs": [],
   "source": [
    "accuracy_rfc = accuracy_score(y_pred_rfc, y_test)"
   ]
  },
  {
   "cell_type": "code",
   "execution_count": 49,
   "id": "679305ae",
   "metadata": {},
   "outputs": [
    {
     "name": "stdout",
     "output_type": "stream",
     "text": [
      "Random Forest Accuracy: 0.92\n"
     ]
    }
   ],
   "source": [
    "print(\"Random Forest Accuracy:\", accuracy_rfc)"
   ]
  },
  {
   "cell_type": "markdown",
   "id": "9867a602",
   "metadata": {},
   "source": []
  },
  {
   "cell_type": "markdown",
   "id": "ff7930f7",
   "metadata": {},
   "source": [
    "# Gradient Boost Classifier"
   ]
  },
  {
   "cell_type": "code",
   "execution_count": 67,
   "id": "bb9b5840",
   "metadata": {},
   "outputs": [
    {
     "data": {
      "text/html": [
       "<style>#sk-container-id-8 {color: black;background-color: white;}#sk-container-id-8 pre{padding: 0;}#sk-container-id-8 div.sk-toggleable {background-color: white;}#sk-container-id-8 label.sk-toggleable__label {cursor: pointer;display: block;width: 100%;margin-bottom: 0;padding: 0.3em;box-sizing: border-box;text-align: center;}#sk-container-id-8 label.sk-toggleable__label-arrow:before {content: \"▸\";float: left;margin-right: 0.25em;color: #696969;}#sk-container-id-8 label.sk-toggleable__label-arrow:hover:before {color: black;}#sk-container-id-8 div.sk-estimator:hover label.sk-toggleable__label-arrow:before {color: black;}#sk-container-id-8 div.sk-toggleable__content {max-height: 0;max-width: 0;overflow: hidden;text-align: left;background-color: #f0f8ff;}#sk-container-id-8 div.sk-toggleable__content pre {margin: 0.2em;color: black;border-radius: 0.25em;background-color: #f0f8ff;}#sk-container-id-8 input.sk-toggleable__control:checked~div.sk-toggleable__content {max-height: 200px;max-width: 100%;overflow: auto;}#sk-container-id-8 input.sk-toggleable__control:checked~label.sk-toggleable__label-arrow:before {content: \"▾\";}#sk-container-id-8 div.sk-estimator input.sk-toggleable__control:checked~label.sk-toggleable__label {background-color: #d4ebff;}#sk-container-id-8 div.sk-label input.sk-toggleable__control:checked~label.sk-toggleable__label {background-color: #d4ebff;}#sk-container-id-8 input.sk-hidden--visually {border: 0;clip: rect(1px 1px 1px 1px);clip: rect(1px, 1px, 1px, 1px);height: 1px;margin: -1px;overflow: hidden;padding: 0;position: absolute;width: 1px;}#sk-container-id-8 div.sk-estimator {font-family: monospace;background-color: #f0f8ff;border: 1px dotted black;border-radius: 0.25em;box-sizing: border-box;margin-bottom: 0.5em;}#sk-container-id-8 div.sk-estimator:hover {background-color: #d4ebff;}#sk-container-id-8 div.sk-parallel-item::after {content: \"\";width: 100%;border-bottom: 1px solid gray;flex-grow: 1;}#sk-container-id-8 div.sk-label:hover label.sk-toggleable__label {background-color: #d4ebff;}#sk-container-id-8 div.sk-serial::before {content: \"\";position: absolute;border-left: 1px solid gray;box-sizing: border-box;top: 0;bottom: 0;left: 50%;z-index: 0;}#sk-container-id-8 div.sk-serial {display: flex;flex-direction: column;align-items: center;background-color: white;padding-right: 0.2em;padding-left: 0.2em;position: relative;}#sk-container-id-8 div.sk-item {position: relative;z-index: 1;}#sk-container-id-8 div.sk-parallel {display: flex;align-items: stretch;justify-content: center;background-color: white;position: relative;}#sk-container-id-8 div.sk-item::before, #sk-container-id-8 div.sk-parallel-item::before {content: \"\";position: absolute;border-left: 1px solid gray;box-sizing: border-box;top: 0;bottom: 0;left: 50%;z-index: -1;}#sk-container-id-8 div.sk-parallel-item {display: flex;flex-direction: column;z-index: 1;position: relative;background-color: white;}#sk-container-id-8 div.sk-parallel-item:first-child::after {align-self: flex-end;width: 50%;}#sk-container-id-8 div.sk-parallel-item:last-child::after {align-self: flex-start;width: 50%;}#sk-container-id-8 div.sk-parallel-item:only-child::after {width: 0;}#sk-container-id-8 div.sk-dashed-wrapped {border: 1px dashed gray;margin: 0 0.4em 0.5em 0.4em;box-sizing: border-box;padding-bottom: 0.4em;background-color: white;}#sk-container-id-8 div.sk-label label {font-family: monospace;font-weight: bold;display: inline-block;line-height: 1.2em;}#sk-container-id-8 div.sk-label-container {text-align: center;}#sk-container-id-8 div.sk-container {/* jupyter's `normalize.less` sets `[hidden] { display: none; }` but bootstrap.min.css set `[hidden] { display: none !important; }` so we also need the `!important` here to be able to override the default hidden behavior on the sphinx rendered scikit-learn.org. See: https://github.com/scikit-learn/scikit-learn/issues/21755 */display: inline-block !important;position: relative;}#sk-container-id-8 div.sk-text-repr-fallback {display: none;}</style><div id=\"sk-container-id-8\" class=\"sk-top-container\"><div class=\"sk-text-repr-fallback\"><pre>GradientBoostingClassifier(random_state=0)</pre><b>In a Jupyter environment, please rerun this cell to show the HTML representation or trust the notebook. <br />On GitHub, the HTML representation is unable to render, please try loading this page with nbviewer.org.</b></div><div class=\"sk-container\" hidden><div class=\"sk-item\"><div class=\"sk-estimator sk-toggleable\"><input class=\"sk-toggleable__control sk-hidden--visually\" id=\"sk-estimator-id-8\" type=\"checkbox\" checked><label for=\"sk-estimator-id-8\" class=\"sk-toggleable__label sk-toggleable__label-arrow\">GradientBoostingClassifier</label><div class=\"sk-toggleable__content\"><pre>GradientBoostingClassifier(random_state=0)</pre></div></div></div></div></div>"
      ],
      "text/plain": [
       "GradientBoostingClassifier(random_state=0)"
      ]
     },
     "execution_count": 67,
     "metadata": {},
     "output_type": "execute_result"
    }
   ],
   "source": [
    "from sklearn.ensemble import GradientBoostingClassifier\n",
    "gbc = GradientBoostingClassifier(n_estimators=100, random_state=0)\n",
    "gbc.fit(x_train, y_train)\n"
   ]
  },
  {
   "cell_type": "code",
   "execution_count": 68,
   "id": "a53851af",
   "metadata": {},
   "outputs": [],
   "source": [
    "y_pred_gbc = gbc.predict(x_test)\n",
    "accuracy_gbc = accuracy_score(y_pred_gbc, y_test)"
   ]
  },
  {
   "cell_type": "code",
   "execution_count": 69,
   "id": "31c75864",
   "metadata": {},
   "outputs": [
    {
     "name": "stdout",
     "output_type": "stream",
     "text": [
      "Gradient Boosting Accuracy: 0.89\n"
     ]
    }
   ],
   "source": [
    "print(\"Gradient Boosting Accuracy:\", accuracy_gbc)"
   ]
  },
  {
   "cell_type": "markdown",
   "id": "c198a7b0",
   "metadata": {},
   "source": [
    "# Naive Bayes CLassifier"
   ]
  },
  {
   "cell_type": "code",
   "execution_count": 70,
   "id": "8150f144",
   "metadata": {},
   "outputs": [],
   "source": [
    "from sklearn.naive_bayes import GaussianNB"
   ]
  },
  {
   "cell_type": "code",
   "execution_count": 71,
   "id": "3e419e06",
   "metadata": {},
   "outputs": [],
   "source": [
    "nb = GaussianNB()"
   ]
  },
  {
   "cell_type": "code",
   "execution_count": 72,
   "id": "c95f74e5",
   "metadata": {},
   "outputs": [
    {
     "data": {
      "text/html": [
       "<style>#sk-container-id-9 {color: black;background-color: white;}#sk-container-id-9 pre{padding: 0;}#sk-container-id-9 div.sk-toggleable {background-color: white;}#sk-container-id-9 label.sk-toggleable__label {cursor: pointer;display: block;width: 100%;margin-bottom: 0;padding: 0.3em;box-sizing: border-box;text-align: center;}#sk-container-id-9 label.sk-toggleable__label-arrow:before {content: \"▸\";float: left;margin-right: 0.25em;color: #696969;}#sk-container-id-9 label.sk-toggleable__label-arrow:hover:before {color: black;}#sk-container-id-9 div.sk-estimator:hover label.sk-toggleable__label-arrow:before {color: black;}#sk-container-id-9 div.sk-toggleable__content {max-height: 0;max-width: 0;overflow: hidden;text-align: left;background-color: #f0f8ff;}#sk-container-id-9 div.sk-toggleable__content pre {margin: 0.2em;color: black;border-radius: 0.25em;background-color: #f0f8ff;}#sk-container-id-9 input.sk-toggleable__control:checked~div.sk-toggleable__content {max-height: 200px;max-width: 100%;overflow: auto;}#sk-container-id-9 input.sk-toggleable__control:checked~label.sk-toggleable__label-arrow:before {content: \"▾\";}#sk-container-id-9 div.sk-estimator input.sk-toggleable__control:checked~label.sk-toggleable__label {background-color: #d4ebff;}#sk-container-id-9 div.sk-label input.sk-toggleable__control:checked~label.sk-toggleable__label {background-color: #d4ebff;}#sk-container-id-9 input.sk-hidden--visually {border: 0;clip: rect(1px 1px 1px 1px);clip: rect(1px, 1px, 1px, 1px);height: 1px;margin: -1px;overflow: hidden;padding: 0;position: absolute;width: 1px;}#sk-container-id-9 div.sk-estimator {font-family: monospace;background-color: #f0f8ff;border: 1px dotted black;border-radius: 0.25em;box-sizing: border-box;margin-bottom: 0.5em;}#sk-container-id-9 div.sk-estimator:hover {background-color: #d4ebff;}#sk-container-id-9 div.sk-parallel-item::after {content: \"\";width: 100%;border-bottom: 1px solid gray;flex-grow: 1;}#sk-container-id-9 div.sk-label:hover label.sk-toggleable__label {background-color: #d4ebff;}#sk-container-id-9 div.sk-serial::before {content: \"\";position: absolute;border-left: 1px solid gray;box-sizing: border-box;top: 0;bottom: 0;left: 50%;z-index: 0;}#sk-container-id-9 div.sk-serial {display: flex;flex-direction: column;align-items: center;background-color: white;padding-right: 0.2em;padding-left: 0.2em;position: relative;}#sk-container-id-9 div.sk-item {position: relative;z-index: 1;}#sk-container-id-9 div.sk-parallel {display: flex;align-items: stretch;justify-content: center;background-color: white;position: relative;}#sk-container-id-9 div.sk-item::before, #sk-container-id-9 div.sk-parallel-item::before {content: \"\";position: absolute;border-left: 1px solid gray;box-sizing: border-box;top: 0;bottom: 0;left: 50%;z-index: -1;}#sk-container-id-9 div.sk-parallel-item {display: flex;flex-direction: column;z-index: 1;position: relative;background-color: white;}#sk-container-id-9 div.sk-parallel-item:first-child::after {align-self: flex-end;width: 50%;}#sk-container-id-9 div.sk-parallel-item:last-child::after {align-self: flex-start;width: 50%;}#sk-container-id-9 div.sk-parallel-item:only-child::after {width: 0;}#sk-container-id-9 div.sk-dashed-wrapped {border: 1px dashed gray;margin: 0 0.4em 0.5em 0.4em;box-sizing: border-box;padding-bottom: 0.4em;background-color: white;}#sk-container-id-9 div.sk-label label {font-family: monospace;font-weight: bold;display: inline-block;line-height: 1.2em;}#sk-container-id-9 div.sk-label-container {text-align: center;}#sk-container-id-9 div.sk-container {/* jupyter's `normalize.less` sets `[hidden] { display: none; }` but bootstrap.min.css set `[hidden] { display: none !important; }` so we also need the `!important` here to be able to override the default hidden behavior on the sphinx rendered scikit-learn.org. See: https://github.com/scikit-learn/scikit-learn/issues/21755 */display: inline-block !important;position: relative;}#sk-container-id-9 div.sk-text-repr-fallback {display: none;}</style><div id=\"sk-container-id-9\" class=\"sk-top-container\"><div class=\"sk-text-repr-fallback\"><pre>GaussianNB()</pre><b>In a Jupyter environment, please rerun this cell to show the HTML representation or trust the notebook. <br />On GitHub, the HTML representation is unable to render, please try loading this page with nbviewer.org.</b></div><div class=\"sk-container\" hidden><div class=\"sk-item\"><div class=\"sk-estimator sk-toggleable\"><input class=\"sk-toggleable__control sk-hidden--visually\" id=\"sk-estimator-id-9\" type=\"checkbox\" checked><label for=\"sk-estimator-id-9\" class=\"sk-toggleable__label sk-toggleable__label-arrow\">GaussianNB</label><div class=\"sk-toggleable__content\"><pre>GaussianNB()</pre></div></div></div></div></div>"
      ],
      "text/plain": [
       "GaussianNB()"
      ]
     },
     "execution_count": 72,
     "metadata": {},
     "output_type": "execute_result"
    }
   ],
   "source": [
    "nb.fit(x_train, y_train)"
   ]
  },
  {
   "cell_type": "code",
   "execution_count": 73,
   "id": "18216391",
   "metadata": {},
   "outputs": [],
   "source": [
    "y_pred_nb = nb.predict(x_test)"
   ]
  },
  {
   "cell_type": "code",
   "execution_count": 74,
   "id": "25bbc960",
   "metadata": {},
   "outputs": [],
   "source": [
    "accuracy_nb = accuracy_score(y_pred_nb, y_test)"
   ]
  },
  {
   "cell_type": "code",
   "execution_count": 75,
   "id": "392f986f",
   "metadata": {},
   "outputs": [
    {
     "name": "stdout",
     "output_type": "stream",
     "text": [
      "Naive Bayes Accuracy: 0.94\n"
     ]
    }
   ],
   "source": [
    "print(\"Naive Bayes Accuracy:\", accuracy_nb)"
   ]
  },
  {
   "cell_type": "markdown",
   "id": "1d079009",
   "metadata": {},
   "source": [
    "# MLP classifier"
   ]
  },
  {
   "cell_type": "code",
   "execution_count": 76,
   "id": "9aa82024",
   "metadata": {},
   "outputs": [],
   "source": [
    "from sklearn.neural_network import MLPClassifier"
   ]
  },
  {
   "cell_type": "code",
   "execution_count": 77,
   "id": "03c070bf",
   "metadata": {},
   "outputs": [],
   "source": [
    "mlp = MLPClassifier(hidden_layer_sizes=(100,), max_iter=1000, random_state=0)"
   ]
  },
  {
   "cell_type": "code",
   "execution_count": 78,
   "id": "71a75259",
   "metadata": {},
   "outputs": [
    {
     "data": {
      "text/html": [
       "<style>#sk-container-id-10 {color: black;background-color: white;}#sk-container-id-10 pre{padding: 0;}#sk-container-id-10 div.sk-toggleable {background-color: white;}#sk-container-id-10 label.sk-toggleable__label {cursor: pointer;display: block;width: 100%;margin-bottom: 0;padding: 0.3em;box-sizing: border-box;text-align: center;}#sk-container-id-10 label.sk-toggleable__label-arrow:before {content: \"▸\";float: left;margin-right: 0.25em;color: #696969;}#sk-container-id-10 label.sk-toggleable__label-arrow:hover:before {color: black;}#sk-container-id-10 div.sk-estimator:hover label.sk-toggleable__label-arrow:before {color: black;}#sk-container-id-10 div.sk-toggleable__content {max-height: 0;max-width: 0;overflow: hidden;text-align: left;background-color: #f0f8ff;}#sk-container-id-10 div.sk-toggleable__content pre {margin: 0.2em;color: black;border-radius: 0.25em;background-color: #f0f8ff;}#sk-container-id-10 input.sk-toggleable__control:checked~div.sk-toggleable__content {max-height: 200px;max-width: 100%;overflow: auto;}#sk-container-id-10 input.sk-toggleable__control:checked~label.sk-toggleable__label-arrow:before {content: \"▾\";}#sk-container-id-10 div.sk-estimator input.sk-toggleable__control:checked~label.sk-toggleable__label {background-color: #d4ebff;}#sk-container-id-10 div.sk-label input.sk-toggleable__control:checked~label.sk-toggleable__label {background-color: #d4ebff;}#sk-container-id-10 input.sk-hidden--visually {border: 0;clip: rect(1px 1px 1px 1px);clip: rect(1px, 1px, 1px, 1px);height: 1px;margin: -1px;overflow: hidden;padding: 0;position: absolute;width: 1px;}#sk-container-id-10 div.sk-estimator {font-family: monospace;background-color: #f0f8ff;border: 1px dotted black;border-radius: 0.25em;box-sizing: border-box;margin-bottom: 0.5em;}#sk-container-id-10 div.sk-estimator:hover {background-color: #d4ebff;}#sk-container-id-10 div.sk-parallel-item::after {content: \"\";width: 100%;border-bottom: 1px solid gray;flex-grow: 1;}#sk-container-id-10 div.sk-label:hover label.sk-toggleable__label {background-color: #d4ebff;}#sk-container-id-10 div.sk-serial::before {content: \"\";position: absolute;border-left: 1px solid gray;box-sizing: border-box;top: 0;bottom: 0;left: 50%;z-index: 0;}#sk-container-id-10 div.sk-serial {display: flex;flex-direction: column;align-items: center;background-color: white;padding-right: 0.2em;padding-left: 0.2em;position: relative;}#sk-container-id-10 div.sk-item {position: relative;z-index: 1;}#sk-container-id-10 div.sk-parallel {display: flex;align-items: stretch;justify-content: center;background-color: white;position: relative;}#sk-container-id-10 div.sk-item::before, #sk-container-id-10 div.sk-parallel-item::before {content: \"\";position: absolute;border-left: 1px solid gray;box-sizing: border-box;top: 0;bottom: 0;left: 50%;z-index: -1;}#sk-container-id-10 div.sk-parallel-item {display: flex;flex-direction: column;z-index: 1;position: relative;background-color: white;}#sk-container-id-10 div.sk-parallel-item:first-child::after {align-self: flex-end;width: 50%;}#sk-container-id-10 div.sk-parallel-item:last-child::after {align-self: flex-start;width: 50%;}#sk-container-id-10 div.sk-parallel-item:only-child::after {width: 0;}#sk-container-id-10 div.sk-dashed-wrapped {border: 1px dashed gray;margin: 0 0.4em 0.5em 0.4em;box-sizing: border-box;padding-bottom: 0.4em;background-color: white;}#sk-container-id-10 div.sk-label label {font-family: monospace;font-weight: bold;display: inline-block;line-height: 1.2em;}#sk-container-id-10 div.sk-label-container {text-align: center;}#sk-container-id-10 div.sk-container {/* jupyter's `normalize.less` sets `[hidden] { display: none; }` but bootstrap.min.css set `[hidden] { display: none !important; }` so we also need the `!important` here to be able to override the default hidden behavior on the sphinx rendered scikit-learn.org. See: https://github.com/scikit-learn/scikit-learn/issues/21755 */display: inline-block !important;position: relative;}#sk-container-id-10 div.sk-text-repr-fallback {display: none;}</style><div id=\"sk-container-id-10\" class=\"sk-top-container\"><div class=\"sk-text-repr-fallback\"><pre>MLPClassifier(max_iter=1000, random_state=0)</pre><b>In a Jupyter environment, please rerun this cell to show the HTML representation or trust the notebook. <br />On GitHub, the HTML representation is unable to render, please try loading this page with nbviewer.org.</b></div><div class=\"sk-container\" hidden><div class=\"sk-item\"><div class=\"sk-estimator sk-toggleable\"><input class=\"sk-toggleable__control sk-hidden--visually\" id=\"sk-estimator-id-10\" type=\"checkbox\" checked><label for=\"sk-estimator-id-10\" class=\"sk-toggleable__label sk-toggleable__label-arrow\">MLPClassifier</label><div class=\"sk-toggleable__content\"><pre>MLPClassifier(max_iter=1000, random_state=0)</pre></div></div></div></div></div>"
      ],
      "text/plain": [
       "MLPClassifier(max_iter=1000, random_state=0)"
      ]
     },
     "execution_count": 78,
     "metadata": {},
     "output_type": "execute_result"
    }
   ],
   "source": [
    "mlp.fit(x_train, y_train)"
   ]
  },
  {
   "cell_type": "code",
   "execution_count": 79,
   "id": "df44d631",
   "metadata": {},
   "outputs": [],
   "source": [
    "y_pred_mlp = mlp.predict(x_test)"
   ]
  },
  {
   "cell_type": "code",
   "execution_count": 80,
   "id": "07bdad56",
   "metadata": {},
   "outputs": [],
   "source": [
    "accuracy_mlp = accuracy_score(y_pred_mlp, y_test)"
   ]
  },
  {
   "cell_type": "code",
   "execution_count": 81,
   "id": "0e01d413",
   "metadata": {},
   "outputs": [
    {
     "name": "stdout",
     "output_type": "stream",
     "text": [
      "MLP Classifier Accuracy: 0.94\n"
     ]
    }
   ],
   "source": [
    "print(\"MLP Classifier Accuracy:\", accuracy_mlp)"
   ]
  },
  {
   "cell_type": "markdown",
   "id": "9735538f",
   "metadata": {},
   "source": [
    "Overall, SVM with RBF kernel demonstrated the best performance in this experiment scoring accuracy of 95%. Its ability to handle non-linearities well in the data contributed to this success. Following closely behind, naive bayes classifiers and MLP with 94% for its ability to analyse complex patterns, while Naive Bayes benefits from its assumption of strong independence between features. Additionally, both KNN and Random Forest classifiers exhibited respectable performance, with accuracies ranging from 90% to 92%. This demonstrates their effectiveness in handling small datasets and diverse types of data."
   ]
  },
  {
   "cell_type": "code",
   "execution_count": null,
   "id": "3815d294",
   "metadata": {},
   "outputs": [],
   "source": []
  }
 ],
 "metadata": {
  "kernelspec": {
   "display_name": "Python 3 (ipykernel)",
   "language": "python",
   "name": "python3"
  },
  "language_info": {
   "codemirror_mode": {
    "name": "ipython",
    "version": 3
   },
   "file_extension": ".py",
   "mimetype": "text/x-python",
   "name": "python",
   "nbconvert_exporter": "python",
   "pygments_lexer": "ipython3",
   "version": "3.10.9"
  }
 },
 "nbformat": 4,
 "nbformat_minor": 5
}
